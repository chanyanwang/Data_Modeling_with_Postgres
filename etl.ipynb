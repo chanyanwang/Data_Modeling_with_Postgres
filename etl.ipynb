{
 "cells": [
  {
   "cell_type": "markdown",
   "metadata": {
    "editable": true
   },
   "source": [
    "# ETL Processes\n",
    "Use this notebook to develop the ETL process for each of your tables before completing the `etl.py` file to load the whole datasets."
   ]
  },
  {
   "cell_type": "code",
   "execution_count": 1,
   "metadata": {
    "editable": true
   },
   "outputs": [],
   "source": [
    "import os\n",
    "import glob\n",
    "import psycopg2\n",
    "import pandas as pd\n",
    "from datetime import datetime\n",
    "from sql_queries import *\n"
   ]
  },
  {
   "cell_type": "code",
   "execution_count": 2,
   "metadata": {
    "editable": true
   },
   "outputs": [],
   "source": [
    "# %load sql_queries.py\n",
    "# DROP TABLES\n",
    "\n",
    "songplay_table_drop = \"DROP TABLE songplays\"\n",
    "user_table_drop = \"DROP TABLE users\"\n",
    "song_table_drop = \"DROP TABLE songs\"\n",
    "artist_table_drop = \"DROP TABLE artists\"\n",
    "time_table_drop = \"DROP TABLE time\"\n",
    "\n",
    "# CREATE TABLES\n",
    "\n",
    "songplay_table_create = (\"\"\" CREATE TABLE IF NOT EXISTS songplays (songplay_id int, start_time timestamp, user_id int, level varchar,\\\n",
    "                                song_id varchar, artist_id varchar, session_id int, location varchar, user_agent varchar)\n",
    "                        \"\"\")\n",
    "\n",
    "user_table_create = (\"\"\" CREATE TABLE IF NOT EXISTS users (user_id int, first_name varchar, last_name varchar, gender varchar, level varchar)\n",
    "\"\"\")\n",
    "\n",
    "song_table_create = (\"\"\" CREATE TABLE IF NOT EXISTS songs (song_id varchar, title varchar, artist_id varchar, year int, duration float) \n",
    "\"\"\")\n",
    "\n",
    "artist_table_create = (\"\"\" CREATE TABLE IF NOT EXISTS artists (artist_id varchar, name varchar, location varchar, latitude float, longitude float)\n",
    "\"\"\")\n",
    "\n",
    "time_table_create = (\"\"\" CREATE TABLE IF NOT EXISTS time (start_time timestamp, hour int, day int, week int, month int, year int)\n",
    "\"\"\")\n",
    "\n",
    "# INSERT RECORDS\n",
    "\n",
    "songplay_table_insert = (\"\"\" INSERT INTO songplays (songplay_id , start_time , user_id , level, song_id, artist_id, session_id , location , user_agent )\\\n",
    "                                VALUES(%s, %s, %s, %s, %s, %s, %s, %s, %s)\n",
    "                                 ON CONFLICT DO NOTHING\n",
    "\"\"\")\n",
    "\n",
    "user_table_insert = (\"\"\" INSERT INTO users (user_id, first_name, last_name, gender, level) VALUES(%s, %s, %s, %s, %s)\n",
    "\"\"\")\n",
    "\n",
    "song_table_insert = (\"\"\" INSERT INTO songs (song_id, title, artist_id, year, duration) VALUES(%s, %s, %s, %s, %s )\n",
    "\"\"\")\n",
    "\n",
    "artist_table_insert = (\"\"\" INSERT INTO artists (artist_id, name, location, latitude, longitude ) VALUES(%s, %s, %s, %s, %s)\n",
    "\"\"\")\n",
    "\n",
    "\n",
    "time_table_insert = (\"\"\" INSERT INTO time (start_time, hour, day, week, month, year) VALUES (%s, %s, %s, %s, %s, %s)\n",
    "\"\"\")\n",
    "\n",
    "# FIND SONGS\n",
    "\n",
    "song_select = (\"\"\" SELECT * from songs s join artists a on a.artist_id = s.artist_id WHERE s.title = %s and a.name = %s \n",
    "\"\"\")\n",
    "\n",
    "# QUERY LISTS\n",
    "\n",
    "create_table_queries = [songplay_table_create, user_table_create, song_table_create, artist_table_create, time_table_create]\n",
    "drop_table_queries = [songplay_table_drop, user_table_drop, song_table_drop, artist_table_drop, time_table_drop]"
   ]
  },
  {
   "cell_type": "code",
   "execution_count": 3,
   "metadata": {
    "editable": true
   },
   "outputs": [],
   "source": [
    " # connect to default database\n",
    "conn = psycopg2.connect(\"host=127.0.0.1 dbname=studentdb user=student password=student\")\n",
    "conn.set_session(autocommit=True)\n",
    "cur = conn.cursor()\n",
    "\n",
    "# create sparkify database with UTF8 encoding\n",
    "cur.execute(\"DROP DATABASE IF EXISTS sparkifydb\")\n",
    "cur.execute(\"CREATE DATABASE sparkifydb WITH ENCODING 'utf8' TEMPLATE template0\")\n",
    "\n",
    "# close connection to default database\n",
    "conn.close()    \n",
    "\n",
    "# connect to sparkify database\n",
    "conn = psycopg2.connect(\"host=127.0.0.1 dbname=sparkifydb user=student password=student\")\n",
    "cur = conn.cursor()\n",
    "    "
   ]
  },
  {
   "cell_type": "code",
   "execution_count": 3,
   "metadata": {
    "editable": true
   },
   "outputs": [],
   "source": [
    "conn = psycopg2.connect(\"host=127.0.0.1 dbname=sparkifydb user=student password=student\")\n",
    "cur = conn.cursor()"
   ]
  },
  {
   "cell_type": "code",
   "execution_count": 4,
   "metadata": {
    "editable": true
   },
   "outputs": [],
   "source": [
    "def get_files(filepath):\n",
    "    all_files = []\n",
    "    for root, dirs, files in os.walk(filepath):\n",
    "        files = glob.glob(os.path.join(root,'*.json'))\n",
    "        for f in files :\n",
    "            all_files.append(os.path.abspath(f))\n",
    "    \n",
    "    return all_files"
   ]
  },
  {
   "cell_type": "markdown",
   "metadata": {
    "editable": true
   },
   "source": [
    "# Process `song_data`\n",
    "In this first part, you'll perform ETL on the first dataset, `song_data`, to create the `songs` and `artists` dimensional tables.\n",
    "\n",
    "Let's perform ETL on a single song file and load a single record into each table to start.\n",
    "- Use the `get_files` function provided above to get a list of all song JSON files in `data/song_data`\n",
    "- Select the first song in this list\n",
    "- Read the song file and view the data"
   ]
  },
  {
   "cell_type": "code",
   "execution_count": 5,
   "metadata": {
    "editable": true
   },
   "outputs": [],
   "source": [
    "#\n",
    "song_files = get_files(\"data/song_data\")\n"
   ]
  },
  {
   "cell_type": "code",
   "execution_count": 6,
   "metadata": {
    "editable": true
   },
   "outputs": [],
   "source": [
    "filepath = song_files[1]"
   ]
  },
  {
   "cell_type": "code",
   "execution_count": null,
   "metadata": {
    "editable": true
   },
   "outputs": [],
   "source": [
    "df = pd.read_json(filepath, lines=True, encoding = 'utf-8') \n",
    "df.head()"
   ]
  },
  {
   "cell_type": "markdown",
   "metadata": {
    "editable": true
   },
   "source": [
    "## #1: `songs` Table\n",
    "#### Extract Data for Songs Table\n",
    "- Select columns for song ID, title, artist ID, year, and duration\n",
    "- Use `df.values` to select just the values from the dataframe\n",
    "- Index to select the first (only) record in the dataframe\n",
    "- Convert the array to a list and set it to `song_data`"
   ]
  },
  {
   "cell_type": "code",
   "execution_count": 33,
   "metadata": {
    "editable": true
   },
   "outputs": [
    {
     "data": {
      "text/plain": [
       "['SOGDBUF12A8C140FAA', 'Intro', 'AR558FS1187FB45658', 2003, 75.67628]"
      ]
     },
     "execution_count": 33,
     "metadata": {},
     "output_type": "execute_result"
    }
   ],
   "source": [
    "\n",
    "song_data = df[['song_id', 'title', 'artist_id', 'year', 'duration']].values.tolist()[0]\n",
    "song_data[1].replace(\"\\'\", \" \\\" \")\n",
    "song_data"
   ]
  },
  {
   "cell_type": "markdown",
   "metadata": {
    "editable": true
   },
   "source": [
    "#### Insert Record into Song Table\n",
    "Implement the `song_table_insert` query in `sql_queries.py` and run the cell below to insert a record for this song into the `songs` table. Remember to run `create_tables.py` before running the cell below to ensure you've created/resetted the `songs` table in the sparkify database."
   ]
  },
  {
   "cell_type": "code",
   "execution_count": 16,
   "metadata": {
    "editable": true
   },
   "outputs": [],
   "source": [
    "cur.execute(song_table_insert, song_data)\n",
    "conn.commit()"
   ]
  },
  {
   "cell_type": "markdown",
   "metadata": {
    "editable": true
   },
   "source": [
    "Run `test.ipynb` to see if you've successfully added a record to this table."
   ]
  },
  {
   "cell_type": "markdown",
   "metadata": {
    "editable": true
   },
   "source": [
    "## #2: `artists` Table\n",
    "#### Extract Data for Artists Table\n",
    "- Select columns for artist ID, name, location, latitude, and longitude\n",
    "- Use `df.values` to select just the values from the dataframe\n",
    "- Index to select the first (only) record in the dataframe\n",
    "- Convert the array to a list and set it to `artist_data`"
   ]
  },
  {
   "cell_type": "code",
   "execution_count": 17,
   "metadata": {
    "editable": true
   },
   "outputs": [
    {
     "data": {
      "text/plain": [
       "['AR558FS1187FB45658', '40 Grit', '', nan, nan]"
      ]
     },
     "execution_count": 17,
     "metadata": {},
     "output_type": "execute_result"
    }
   ],
   "source": [
    "artist_data = df[[ 'artist_id', 'artist_name', 'artist_location','artist_latitude', 'artist_longitude']].values.tolist()[0]\n",
    "artist_data"
   ]
  },
  {
   "cell_type": "markdown",
   "metadata": {
    "editable": true
   },
   "source": [
    "#### Insert Record into Artist Table\n",
    "Implement the `artist_table_insert` query in `sql_queries.py` and run the cell below to insert a record for this song's artist into the `artists` table. Remember to run `create_tables.py` before running the cell below to ensure you've created/resetted the `artists` table in the sparkify database."
   ]
  },
  {
   "cell_type": "code",
   "execution_count": 18,
   "metadata": {
    "editable": true
   },
   "outputs": [],
   "source": [
    "cur.execute(artist_table_insert, artist_data)\n",
    "conn.commit()"
   ]
  },
  {
   "cell_type": "markdown",
   "metadata": {
    "editable": true
   },
   "source": [
    "Run `test.ipynb` to see if you've successfully added a record to this table."
   ]
  },
  {
   "cell_type": "markdown",
   "metadata": {
    "editable": true
   },
   "source": [
    "# Process `log_data`\n",
    "In this part, you'll perform ETL on the second dataset, `log_data`, to create the `time` and `users` dimensional tables, as well as the `songplays` fact table.\n",
    "\n",
    "Let's perform ETL on a single log file and load a single record into each table.\n",
    "- Use the `get_files` function provided above to get a list of all log JSON files in `data/log_data`\n",
    "- Select the first log file in this list\n",
    "- Read the log file and view the data"
   ]
  },
  {
   "cell_type": "code",
   "execution_count": 11,
   "metadata": {
    "editable": true
   },
   "outputs": [
    {
     "data": {
      "text/plain": [
       "['/home/workspace/data/log_data/2018/11/2018-11-29-events.json',\n",
       " '/home/workspace/data/log_data/2018/11/2018-11-27-events.json',\n",
       " '/home/workspace/data/log_data/2018/11/2018-11-11-events.json',\n",
       " '/home/workspace/data/log_data/2018/11/2018-11-18-events.json',\n",
       " '/home/workspace/data/log_data/2018/11/2018-11-08-events.json',\n",
       " '/home/workspace/data/log_data/2018/11/2018-11-30-events.json',\n",
       " '/home/workspace/data/log_data/2018/11/2018-11-17-events.json',\n",
       " '/home/workspace/data/log_data/2018/11/2018-11-20-events.json',\n",
       " '/home/workspace/data/log_data/2018/11/2018-11-28-events.json',\n",
       " '/home/workspace/data/log_data/2018/11/2018-11-06-events.json',\n",
       " '/home/workspace/data/log_data/2018/11/2018-11-23-events.json',\n",
       " '/home/workspace/data/log_data/2018/11/2018-11-13-events.json',\n",
       " '/home/workspace/data/log_data/2018/11/2018-11-21-events.json',\n",
       " '/home/workspace/data/log_data/2018/11/2018-11-16-events.json',\n",
       " '/home/workspace/data/log_data/2018/11/2018-11-04-events.json',\n",
       " '/home/workspace/data/log_data/2018/11/2018-11-05-events.json',\n",
       " '/home/workspace/data/log_data/2018/11/2018-11-15-events.json',\n",
       " '/home/workspace/data/log_data/2018/11/2018-11-12-events.json',\n",
       " '/home/workspace/data/log_data/2018/11/2018-11-07-events.json',\n",
       " '/home/workspace/data/log_data/2018/11/2018-11-01-events.json',\n",
       " '/home/workspace/data/log_data/2018/11/2018-11-22-events.json',\n",
       " '/home/workspace/data/log_data/2018/11/2018-11-25-events.json',\n",
       " '/home/workspace/data/log_data/2018/11/2018-11-10-events.json',\n",
       " '/home/workspace/data/log_data/2018/11/2018-11-14-events.json',\n",
       " '/home/workspace/data/log_data/2018/11/2018-11-02-events.json',\n",
       " '/home/workspace/data/log_data/2018/11/2018-11-24-events.json',\n",
       " '/home/workspace/data/log_data/2018/11/2018-11-26-events.json',\n",
       " '/home/workspace/data/log_data/2018/11/2018-11-03-events.json',\n",
       " '/home/workspace/data/log_data/2018/11/2018-11-09-events.json',\n",
       " '/home/workspace/data/log_data/2018/11/2018-11-19-events.json']"
      ]
     },
     "execution_count": 11,
     "metadata": {},
     "output_type": "execute_result"
    }
   ],
   "source": [
    "log_files = get_files('data/log_data')"
   ]
  },
  {
   "cell_type": "code",
   "execution_count": 19,
   "metadata": {
    "editable": true
   },
   "outputs": [],
   "source": [
    "filepath = log_files[0]"
   ]
  },
  {
   "cell_type": "code",
   "execution_count": 20,
   "metadata": {
    "editable": true
   },
   "outputs": [
    {
     "data": {
      "text/html": [
       "<div>\n",
       "<style scoped>\n",
       "    .dataframe tbody tr th:only-of-type {\n",
       "        vertical-align: middle;\n",
       "    }\n",
       "\n",
       "    .dataframe tbody tr th {\n",
       "        vertical-align: top;\n",
       "    }\n",
       "\n",
       "    .dataframe thead th {\n",
       "        text-align: right;\n",
       "    }\n",
       "</style>\n",
       "<table border=\"1\" class=\"dataframe\">\n",
       "  <thead>\n",
       "    <tr style=\"text-align: right;\">\n",
       "      <th></th>\n",
       "      <th>artist</th>\n",
       "      <th>auth</th>\n",
       "      <th>firstName</th>\n",
       "      <th>gender</th>\n",
       "      <th>itemInSession</th>\n",
       "      <th>lastName</th>\n",
       "      <th>length</th>\n",
       "      <th>level</th>\n",
       "      <th>location</th>\n",
       "      <th>method</th>\n",
       "      <th>page</th>\n",
       "      <th>registration</th>\n",
       "      <th>sessionId</th>\n",
       "      <th>song</th>\n",
       "      <th>status</th>\n",
       "      <th>ts</th>\n",
       "      <th>userAgent</th>\n",
       "      <th>userId</th>\n",
       "    </tr>\n",
       "  </thead>\n",
       "  <tbody>\n",
       "  </tbody>\n",
       "</table>\n",
       "</div>"
      ],
      "text/plain": [
       "Empty DataFrame\n",
       "Columns: [artist, auth, firstName, gender, itemInSession, lastName, length, level, location, method, page, registration, sessionId, song, status, ts, userAgent, userId]\n",
       "Index: []"
      ]
     },
     "execution_count": 20,
     "metadata": {},
     "output_type": "execute_result"
    }
   ],
   "source": [
    "df =  pd.read_json(filepath, lines=True, encoding = 'utf-8') \n",
    "df.tail(20)\n",
    "\n"
   ]
  },
  {
   "cell_type": "markdown",
   "metadata": {
    "editable": true
   },
   "source": [
    "## #3: `time` Table\n",
    "#### Extract Data for Time Table\n",
    "- Filter records by `NextSong` action\n",
    "- Convert the `ts` timestamp column to datetime\n",
    "  - Hint: the current timestamp is in milliseconds\n",
    "- Extract the timestamp, hour, day, week of year, month, year, and weekday from the `ts` column and set `time_data` to a list containing these values in order\n",
    "  - Hint: use pandas' [`dt` attribute](https://pandas.pydata.org/pandas-docs/stable/reference/api/pandas.Series.dt.html) to access easily datetimelike properties.\n",
    "- Specify labels for these columns and set to `column_labels`\n",
    "- Create a dataframe, `time_df,` containing the time data for this file by combining `column_labels` and `time_data` into a dictionary and converting this into a dataframe"
   ]
  },
  {
   "cell_type": "code",
   "execution_count": 9,
   "metadata": {
    "editable": true
   },
   "outputs": [
    {
     "ename": "NameError",
     "evalue": "name 'df' is not defined",
     "output_type": "error",
     "traceback": [
      "\u001b[0;31m---------------------------------------------------------------------------\u001b[0m",
      "\u001b[0;31mNameError\u001b[0m                                 Traceback (most recent call last)",
      "\u001b[0;32m<ipython-input-9-cf9a6f6a519c>\u001b[0m in \u001b[0;36m<module>\u001b[0;34m()\u001b[0m\n\u001b[0;32m----> 1\u001b[0;31m \u001b[0mdf\u001b[0m \u001b[0;34m=\u001b[0m \u001b[0mdf\u001b[0m\u001b[0;34m.\u001b[0m\u001b[0mloc\u001b[0m\u001b[0;34m[\u001b[0m\u001b[0mdf\u001b[0m\u001b[0;34m[\u001b[0m\u001b[0;34m'page'\u001b[0m\u001b[0;34m]\u001b[0m \u001b[0;34m==\u001b[0m \u001b[0;34m'NextSong'\u001b[0m\u001b[0;34m]\u001b[0m\u001b[0;34m\u001b[0m\u001b[0m\n\u001b[0m\u001b[1;32m      2\u001b[0m \u001b[0mdf\u001b[0m\u001b[0;34m.\u001b[0m\u001b[0mhead\u001b[0m\u001b[0;34m(\u001b[0m\u001b[0;36m20\u001b[0m\u001b[0;34m)\u001b[0m\u001b[0;34m\u001b[0m\u001b[0m\n",
      "\u001b[0;31mNameError\u001b[0m: name 'df' is not defined"
     ]
    }
   ],
   "source": [
    "df = df.loc[df['page'] == 'NextSong']\n",
    "df.head(20)\n"
   ]
  },
  {
   "cell_type": "code",
   "execution_count": 41,
   "metadata": {
    "editable": true
   },
   "outputs": [
    {
     "data": {
      "text/plain": [
       "319"
      ]
     },
     "execution_count": 41,
     "metadata": {},
     "output_type": "execute_result"
    }
   ],
   "source": [
    "t = pd.to_datetime(df['ts'], unit='ms')\n",
    "t.head()\n"
   ]
  },
  {
   "cell_type": "code",
   "execution_count": 42,
   "metadata": {
    "editable": true
   },
   "outputs": [
    {
     "data": {
      "text/html": [
       "<div>\n",
       "<style scoped>\n",
       "    .dataframe tbody tr th:only-of-type {\n",
       "        vertical-align: middle;\n",
       "    }\n",
       "\n",
       "    .dataframe tbody tr th {\n",
       "        vertical-align: top;\n",
       "    }\n",
       "\n",
       "    .dataframe thead th {\n",
       "        text-align: right;\n",
       "    }\n",
       "</style>\n",
       "<table border=\"1\" class=\"dataframe\">\n",
       "  <thead>\n",
       "    <tr style=\"text-align: right;\">\n",
       "      <th></th>\n",
       "      <th>start_time</th>\n",
       "      <th>hour</th>\n",
       "      <th>day</th>\n",
       "      <th>week</th>\n",
       "      <th>month</th>\n",
       "      <th>year</th>\n",
       "    </tr>\n",
       "  </thead>\n",
       "  <tbody>\n",
       "    <tr>\n",
       "      <th>0</th>\n",
       "      <td>2018-11-29 00:00:57.796</td>\n",
       "      <td>0</td>\n",
       "      <td>29</td>\n",
       "      <td>48</td>\n",
       "      <td>11</td>\n",
       "      <td>2018</td>\n",
       "    </tr>\n",
       "    <tr>\n",
       "      <th>1</th>\n",
       "      <td>2018-11-29 00:01:30.796</td>\n",
       "      <td>0</td>\n",
       "      <td>29</td>\n",
       "      <td>48</td>\n",
       "      <td>11</td>\n",
       "      <td>2018</td>\n",
       "    </tr>\n",
       "    <tr>\n",
       "      <th>2</th>\n",
       "      <td>2018-11-29 00:04:01.796</td>\n",
       "      <td>0</td>\n",
       "      <td>29</td>\n",
       "      <td>48</td>\n",
       "      <td>11</td>\n",
       "      <td>2018</td>\n",
       "    </tr>\n",
       "    <tr>\n",
       "      <th>3</th>\n",
       "      <td>2018-11-29 00:04:55.796</td>\n",
       "      <td>0</td>\n",
       "      <td>29</td>\n",
       "      <td>48</td>\n",
       "      <td>11</td>\n",
       "      <td>2018</td>\n",
       "    </tr>\n",
       "    <tr>\n",
       "      <th>4</th>\n",
       "      <td>2018-11-29 00:07:13.796</td>\n",
       "      <td>0</td>\n",
       "      <td>29</td>\n",
       "      <td>48</td>\n",
       "      <td>11</td>\n",
       "      <td>2018</td>\n",
       "    </tr>\n",
       "  </tbody>\n",
       "</table>\n",
       "</div>"
      ],
      "text/plain": [
       "               start_time  hour  day  week  month  year\n",
       "0 2018-11-29 00:00:57.796     0   29    48     11  2018\n",
       "1 2018-11-29 00:01:30.796     0   29    48     11  2018\n",
       "2 2018-11-29 00:04:01.796     0   29    48     11  2018\n",
       "3 2018-11-29 00:04:55.796     0   29    48     11  2018\n",
       "4 2018-11-29 00:07:13.796     0   29    48     11  2018"
      ]
     },
     "execution_count": 42,
     "metadata": {},
     "output_type": "execute_result"
    }
   ],
   "source": [
    "time_df = pd.DataFrame(data = [])\n",
    "time_df['start_time'] = t\n",
    "time_df['hour'] = t.dt.hour\n",
    "time_df['day'] = t.dt.day\n",
    "time_df['week'] = t.dt.week\n",
    "time_df['month'] = t.dt.month\n",
    "time_df['year'] = t.dt.year\n",
    "time_df.head()"
   ]
  },
  {
   "cell_type": "markdown",
   "metadata": {
    "editable": true
   },
   "source": [
    "#### Insert Records into Time Table\n",
    "Implement the `time_table_insert` query in `sql_queries.py` and run the cell below to insert records for the timestamps in this log file into the `time` table. Remember to run `create_tables.py` before running the cell below to ensure you've created/resetted the `time` table in the sparkify database."
   ]
  },
  {
   "cell_type": "code",
   "execution_count": 43,
   "metadata": {
    "editable": true
   },
   "outputs": [],
   "source": [
    "for i, row in time_df.iterrows():\n",
    "    cur.execute(time_table_insert, list(row))\n",
    "    conn.commit()"
   ]
  },
  {
   "cell_type": "markdown",
   "metadata": {
    "editable": true
   },
   "source": [
    "Run `test.ipynb` to see if you've successfully added records to this table."
   ]
  },
  {
   "cell_type": "markdown",
   "metadata": {
    "editable": true
   },
   "source": [
    "## #4: `users` Table\n",
    "#### Extract Data for Users Table\n",
    "- Select columns for user ID, first name, last name, gender and level and set to `user_df`"
   ]
  },
  {
   "cell_type": "code",
   "execution_count": 44,
   "metadata": {
    "editable": true
   },
   "outputs": [
    {
     "data": {
      "text/html": [
       "<div>\n",
       "<style scoped>\n",
       "    .dataframe tbody tr th:only-of-type {\n",
       "        vertical-align: middle;\n",
       "    }\n",
       "\n",
       "    .dataframe tbody tr th {\n",
       "        vertical-align: top;\n",
       "    }\n",
       "\n",
       "    .dataframe thead th {\n",
       "        text-align: right;\n",
       "    }\n",
       "</style>\n",
       "<table border=\"1\" class=\"dataframe\">\n",
       "  <thead>\n",
       "    <tr style=\"text-align: right;\">\n",
       "      <th></th>\n",
       "      <th>userId</th>\n",
       "      <th>firstName</th>\n",
       "      <th>lastName</th>\n",
       "      <th>gender</th>\n",
       "      <th>level</th>\n",
       "    </tr>\n",
       "  </thead>\n",
       "  <tbody>\n",
       "    <tr>\n",
       "      <th>0</th>\n",
       "      <td>73</td>\n",
       "      <td>Jacob</td>\n",
       "      <td>Klein</td>\n",
       "      <td>M</td>\n",
       "      <td>paid</td>\n",
       "    </tr>\n",
       "    <tr>\n",
       "      <th>1</th>\n",
       "      <td>24</td>\n",
       "      <td>Layla</td>\n",
       "      <td>Griffin</td>\n",
       "      <td>F</td>\n",
       "      <td>paid</td>\n",
       "    </tr>\n",
       "    <tr>\n",
       "      <th>2</th>\n",
       "      <td>24</td>\n",
       "      <td>Layla</td>\n",
       "      <td>Griffin</td>\n",
       "      <td>F</td>\n",
       "      <td>paid</td>\n",
       "    </tr>\n",
       "    <tr>\n",
       "      <th>3</th>\n",
       "      <td>73</td>\n",
       "      <td>Jacob</td>\n",
       "      <td>Klein</td>\n",
       "      <td>M</td>\n",
       "      <td>paid</td>\n",
       "    </tr>\n",
       "    <tr>\n",
       "      <th>4</th>\n",
       "      <td>24</td>\n",
       "      <td>Layla</td>\n",
       "      <td>Griffin</td>\n",
       "      <td>F</td>\n",
       "      <td>paid</td>\n",
       "    </tr>\n",
       "  </tbody>\n",
       "</table>\n",
       "</div>"
      ],
      "text/plain": [
       "  userId firstName lastName gender level\n",
       "0     73     Jacob    Klein      M  paid\n",
       "1     24     Layla  Griffin      F  paid\n",
       "2     24     Layla  Griffin      F  paid\n",
       "3     73     Jacob    Klein      M  paid\n",
       "4     24     Layla  Griffin      F  paid"
      ]
     },
     "execution_count": 44,
     "metadata": {},
     "output_type": "execute_result"
    }
   ],
   "source": [
    "user_df = df[['userId', 'firstName', 'lastName', 'gender', 'level']]\n",
    "user_df.head()"
   ]
  },
  {
   "cell_type": "markdown",
   "metadata": {
    "editable": true
   },
   "source": [
    "#### Insert Records into Users Table\n",
    "Implement the `user_table_insert` query in `sql_queries.py` and run the cell below to insert records for the users in this log file into the `users` table. Remember to run `create_tables.py` before running the cell below to ensure you've created/resetted the `users` table in the sparkify database."
   ]
  },
  {
   "cell_type": "code",
   "execution_count": 45,
   "metadata": {
    "editable": true
   },
   "outputs": [],
   "source": [
    "for i, row in user_df.iterrows():\n",
    "    cur.execute(user_table_insert, row)\n",
    "    conn.commit()"
   ]
  },
  {
   "cell_type": "markdown",
   "metadata": {
    "editable": true
   },
   "source": [
    "Run `test.ipynb` to see if you've successfully added records to this table."
   ]
  },
  {
   "cell_type": "markdown",
   "metadata": {
    "editable": true
   },
   "source": [
    "## #5: `songplays` Table\n",
    "#### Extract Data and Songplays Table\n",
    "This one is a little more complicated since information from the songs table, artists table, and original log file are all needed for the `songplays` table. Since the log file does not specify an ID for either the song or the artist, you'll need to get the song ID and artist ID by querying the songs and artists tables to find matches based on song title, artist name, and song duration time.\n",
    "- Implement the `song_select` query in `sql_queries.py` to find the song ID and artist ID based on the title, artist name, and duration of a song.\n",
    "- Select the timestamp, user ID, level, song ID, artist ID, session ID, location, and user agent and set to `songplay_data`\n",
    "\n",
    "#### Insert Records into Songplays Table\n",
    "- Implement the `songplay_table_insert` query and run the cell below to insert records for the songplay actions in this log file into the `songplays` table. Remember to run `create_tables.py` before running the cell below to ensure you've created/resetted the `songplays` table in the sparkify database."
   ]
  },
  {
   "cell_type": "code",
   "execution_count": 68,
   "metadata": {
    "editable": true
   },
   "outputs": [
    {
     "name": "stdout",
     "output_type": "stream",
     "text": [
      "('Ain\"t No Sunshine', 'Sydney Youngblood')\n",
      "('My Advice 2 You (Explicit)', 'Gang Starr')\n",
      "('My First Kiss (Feat. Ke$ha) [Album Version]', '3OH!3')\n",
      "('The Girl and The Robot', 'RÃ\\x83Â¶yksopp')\n",
      "('Too Shy', 'Kajagoogoo')\n",
      "('Potential', 'The Jimmy Castor Bunch')\n",
      "('The Great Satan (What Would Satan Do Mix)', 'Ministry')\n",
      "('The Screamer', 'Bouncing Souls')\n",
      "('Knife Going In (Album Version)', 'Tegan And Sara')\n",
      "('The Greatest View (Album Version)', 'Silverchair')\n",
      "('T.N.T. For The Brain (112 Bpm) (Radio Edit)', 'Enigma')\n",
      "('Mon MÃ\\x83Â©tro', 'Anis')\n",
      "('Fly Like An Eagle', 'Seal')\n",
      "('Restless', 'UNKLE Feat. Josh Homme')\n",
      "('You\"re The One', 'Dwight Yoakam')\n",
      "('Blue', 'Elastica')\n",
      "('Channel 10', 'Capone-N-Noreaga')\n",
      "('The Oak Tree (Album Version)', 'Morris Day')\n",
      "('What If I Do?', 'Foo Fighters')\n",
      "('You\"re Not Alone', 'Olive')\n",
      "('En Glad Calypso Om VÃ\\x83Â¥ren (Live \"62)', 'Olle Adolphson')\n",
      "('Down_ Down_ Down To Mehphisto\"s Cafe (Album Version)', 'Streetlight Manifesto')\n",
      "('Tu Eres Ajena', 'Frank Reyes')\n",
      "('Estadio Azteca', 'Andres Calamaro')\n",
      "('Sleeper', 'Zero 7')\n",
      "('Toxic', 'Mark Ronson featuring Tiggers')\n",
      "('Merry Go Round (Remastered Single Version)', 'Keith Sweat')\n",
      "('Square Peg Round Hole', 'Wakey!Wakey!')\n",
      "('Eqypt', 'The Mercury Program')\n",
      "('Make Her Say', 'Kid Cudi / Kanye West / Common')\n",
      "('Nice Day For A Resurrection', 'Nekromantix')\n",
      "('Sinisten tÃ\\x83Â¤htien alla', 'J. Karjalainen & Mustat Lasit')\n",
      "('Wade Through The Night', 'Matt Wertz')\n",
      "('My Axe', 'Insane Clown Posse')\n",
      "('It\"s Only Money', 'Thin Lizzy')\n",
      "('Untrust us', 'Crystal Castles')\n",
      "('Full Throttle', 'The Prodigy')\n",
      "('Make Her Say', 'Kid Cudi / Kanye West / Common')\n",
      "('Crazy In The Night (Barking At Airplanes)', 'Kim Carnes')\n",
      "('White Light/White Heat', 'The Velvet Underground')\n",
      "('I Cried For You', 'Katie Melua')\n",
      "('Chicken Hawk', 'Cedell Davis')\n",
      "('Breathe In', 'Frou Frou')\n",
      "('What Goes Around...Comes Around', 'Justin Timberlake')\n",
      "('Moondance (Album Version)', 'Michael BublÃ\\x83Â©')\n",
      "('Make Love To Your Mind', 'Bill Withers')\n",
      "('Feel The Love', 'Cut Copy')\n",
      "('s.Ada.Licht', 'School Of Seven Bells')\n",
      "('The Boss', 'Rick Ross / T-Pain')\n",
      "('Turnin Me On', 'Keri Hilson / Lil Wayne')\n",
      "('Risque (Album Version)', 'Cute Is What We Aim For')\n",
      "('La Guitarra', 'Los AutÃ\\x83Â©nticos Decadentes')\n",
      "('If I Were A Carpenter', 'June Carter Cash;Johnny Cash')\n",
      "('But The NUNS Are Watching', 'I Set My Friends On Fire')\n",
      "('Starvo', 'King Cobb Steelie')\n",
      "('Sorrow (1997 Digital Remaster)', 'David Bowie')\n",
      "('Won\"t Do', 'J Dilla')\n",
      "('In Cairo', 'Hot Hot Heat')\n",
      "('We Rock', 'Norther')\n",
      "('Nothing Better (Album)', 'Postal Service')\n",
      "('Something Out Of Nothing', '311')\n",
      "('When You Look Me In The Eyes', 'Jonas Brothers')\n",
      "('Cantalojas', 'Platero Y Tu')\n",
      "('In My Daughter\"s Eyes', 'Martina McBride')\n",
      "('Smoke', 'Ben Folds Five')\n",
      "('So far so long', 'Seine')\n",
      "('What A Shame (Album Version)', 'Shinedown')\n",
      "('Vanity Case (nouvelle version)', 'Iva')\n",
      "('Hammerhead (Explicit)', 'Cathy Davey')\n",
      "('Hekura', 'Jorge Reyes Valencia')\n",
      "('Candle', 'Sonic Youth')\n",
      "('Slow Dancing In A Burning Room', 'John Mayer')\n",
      "('Geek In The Pink (Album Version)', 'Jason Mraz')\n",
      "('Technologic', 'Daft Punk')\n",
      "('Again', 'Flyleaf')\n",
      "('Carol Brown', 'Flight Of The Conchords')\n",
      "('Invalid', 'Tub Ring')\n",
      "('Daylight', 'Aesop Rock')\n",
      "('Undercover Martyn', 'Two Door Cinema Club')\n",
      "('Clear Channel (Fuck Off!)', 'Leftover Crack')\n",
      "('They Might Follow You', 'Tiny Vipers')\n",
      "('The Climb', 'Miley Cyrus')\n",
      "('Who Can Compare', 'Foolish Things')\n",
      "('Somebody To Love', 'Justin Bieber')\n",
      "('Tiempo', 'Jarabe De Palo')\n",
      "('Happy Alone', 'Kings Of Leon')\n",
      "('I Smell A Rat (LP Version)', 'Clarence Carter')\n",
      "('Kryptonite (Radio Edit) (feat. Big Boi)', 'Purple Ribbon All-Stars feat. Big Boi')\n",
      "('Old Blue Jeans', 'Hannah Montana')\n",
      "('Replay', 'Iyaz')\n",
      "('Aquamosh', 'Plastilina Mosh')\n",
      "('Be (Intro)', 'Common')\n",
      "('I May Never Find', 'Chris Brown')\n",
      "('Runaway (Original)', 'iio')\n",
      "('Eric B. Is On The Cut', 'Eric B. & Rakim')\n",
      "('A Woman\"s Love   (LP Version)', 'Carla Thomas')\n",
      "('Falling in Hate', 'Five Finger Death Punch')\n",
      "('Desert Rose', 'Sting')\n",
      "('If I Cut My Hair_ Hawaii Will Sink (Album Version)', 'Chiodos')\n",
      "('I Wonder Why', 'Dion & The Belmonts')\n",
      "('Prayin For Help (Amended Album Version)', 'T.I.')\n",
      "('Sinister Kid', 'The Black Keys')\n",
      "('Flume', 'Bon Iver')\n",
      "('All The Right Moves', 'OneRepublic')\n",
      "('Word Up', 'Cameo')\n",
      "('Auditorium', 'Mos Def / Slick Rick')\n",
      "('Hallowed Be My Name', 'HAMMERFALL')\n",
      "('I Am The Club (Explicit Album Version)', 'Plies')\n",
      "('Hearts Break', 'Slaid Cleaves')\n",
      "('Sugar Ray (LP Version)', 'Todd Barry')\n",
      "('The Way I Loved You', 'Taylor Swift')\n",
      "('Inside My Love', 'Minnie Riperton')\n",
      "('Comet Course', 'Flying Lotus')\n",
      "('Can\"t Take My Eyes Off You', 'Muse')\n",
      "('Elsewhere', 'Edenbridge')\n",
      "('Hong Kong Blues', 'Frank Ifield')\n",
      "('You\"re The One', 'Dwight Yoakam')\n",
      "('Threat', 'Jay-Z')\n",
      "('The Gift', 'Angels and Airwaves')\n",
      "('Idle Hands (Album Version)', 'Stone Sour')\n",
      "('You\"re The One', 'Dwight Yoakam')\n",
      "('Wishing Well', 'The Airborne Toxic Event')\n",
      "('Here Without You', '3 Doors Down')\n",
      "('Dry Spell', 'Hazmat Modine')\n",
      "('Secrets', 'OneRepublic')\n",
      "('Fuck and Run', 'Liz Phair')\n",
      "('Far Away (Album Version)', 'Nickelback')\n",
      "('Girl I Love You', 'Massive Attack')\n",
      "('Beat Goes On [Featuring Kanye West] (Album Version)', 'Madonna')\n",
      "('Don\"t Walk Away', 'Sick Puppies')\n",
      "('Bone Machine', 'Pixies')\n",
      "('Mi Marfil', 'Andres Calamaro')\n",
      "('None Shall Pass (Main)', 'Aesop Rock')\n",
      "('With You', 'The Subways')\n",
      "('To Go Beyond (II)', 'Enya')\n",
      "('Glitter In The Air', 'P!nk')\n",
      "('Heartbeats', 'JosÃ\\x83Â© Gonzalez')\n",
      "('Better Is One Day (Stereo Trax)', 'Passion')\n",
      "('Two Shoes', 'The Cat Empire')\n",
      "('Someday', 'Mariah Carey')\n",
      "('Interactive Halloween Bear', 'Restiform Bodies')\n",
      "('Better Off Alone', 'Alice Deejay')\n",
      "('Next Evil', 'Interpol')\n",
      "('OMG', 'Usher featuring will.i.am')\n",
      "('Fighters (feat. Matthew Santos) (Amended Album Version)', 'Lupe Fiasco feat. Matthew Santos')\n",
      "('La Guitarra', 'Los AutÃ\\x83Â©nticos Decadentes')\n",
      "('At Least It\"s Raining', 'Brand New Disaster')\n",
      "('Breaking Inside (Album Version)', 'Shinedown')\n",
      "('The Moon Asked The Crow', 'Cocorosie')\n",
      "('Pais E Filhos', 'LegiÃ\\x83Â£o Urbana')\n",
      "('Word Up!', 'Cameo')\n",
      "('Dreamer', 'Atmosphere')\n",
      "('Born Losers', 'Matthew Good')\n",
      "('January Wedding', 'The Avett Brothers')\n",
      "('I\"m Sorry', 'James Newton Howard')\n",
      "('The Fear', 'Lily Allen')\n",
      "('Revelry', 'Kings Of Leon')\n",
      "('I Know You Got Soul', 'Eric B. & Rakim')\n",
      "('Hello', 'Eminem')\n",
      "('Stella The Artist', 'David Gray')\n",
      "('The Sweetest Taboo', 'Sade')\n",
      "('That\"s How You Like It', 'BeyoncÃ\\x83Â© feat. Jay-Z')\n",
      "('Hey Shorty (Yeah Yeah Pt. II) (Feat. U$O & Johnson)', 'Kato')\n",
      "('I\"ll Never Kill Again', 'Wise Intelligent')\n",
      "('Quiero Quererte Querer', 'El Arrebato')\n",
      "('Is This It', 'The Strokes')\n",
      "('I Get Money', '50 Cent')\n",
      "('(There Was A) Tall Oak Tree', 'Dorsey Burnette')\n",
      "('Horse With No Name', 'America')\n",
      "('VÃ\\x83Â\\xadcio De Ti', 'Mesa (Portuguese Group)')\n",
      "('Solo Creo Lo Que Veo', 'Alaska Y Dinarama')\n",
      "('Sehnsucht', 'Rammstein')\n",
      "('Woman Like A Man', 'Damien Rice')\n",
      "('Sequencer Mood 1', 'Vittorio Lue')\n",
      "('Ooh', 'Scissor Sisters')\n",
      "('Overture', 'The Coffee Club Orchestra')\n",
      "('Save Tonight', 'Eagle-Eye Cherry')\n",
      "('Move On Up (Extended LP Version)', 'Curtis Mayfield')\n",
      "('Death Rides a Horse', 'Russian Circles')\n",
      "('Old Panda Days (w/ Nick Krgovich)', 'Casiotone For The Painfully Alone')\n",
      "('I CAN\"T GET STARTED', 'Ron Carter')\n",
      "('No Remorse', 'Metallica')\n",
      "('Wot', 'Captain Sensible')\n",
      "('Blues (2005 Digital Remaster)', 'Renato Carosone')\n",
      "('Invalid', 'Tub Ring')\n",
      "('Harder Than You Know', 'Escape The Fate')\n",
      "('New Soul', 'Yael NaÃ\\x83Â¯m')\n",
      "('Weird Fishes/Arpeggi', 'Radiohead')\n",
      "('A Lack Of Color (Album Version)', 'Death Cab for Cutie')\n",
      "('Sooner Than You Think', 'New Order')\n",
      "('You\"re The One', 'Dwight Yoakam')\n",
      "('Love My Shake', 'Fukkk Offf')\n",
      "('Spit It Out [Explicit]', 'Slipknot')\n",
      "('Big Red', 'Slaves To Gravity')\n",
      "('Holy Roller Novocaine', 'Kings Of Leon')\n",
      "('Horn Concerto No. 4 in E flat K495: II. Romance (Andante cantabile)', 'Barry Tuckwell/Academy of St Martin-in-the-Fields/Sir Neville Marriner')\n",
      "('All My Friends', 'Amos Lee')\n",
      "('No Puedo Evitar (Pensar En Ti)', 'Duncan Dhu')\n",
      "('She Has A Girlfriend Now', 'Reel Big Fish')\n",
      "('Burning Creation', 'Amon Amarth')\n",
      "('Back To You', 'John Mayer')\n",
      "('Don\"t Turn Your Back On Fear', 'The 69 Eyes')\n",
      "('Ladybird', 'Ladytron')\n",
      "('Famous Blue Raincoat', 'Leonard Cohen')\n",
      "('Take It Easy (love Nothing) (Album Version)', 'Bright Eyes')\n",
      "('Live Forever [Fly With Me] [feat. Daryl Hall]', 'Gym Class Heroes')\n",
      "('Promise Me', 'Beverley Craven')\n",
      "('Ringing Bells', 'Masta Killa')\n",
      "('Droomland (duet met Paul de Leeuw)', 'Andre Hazes')\n",
      "('My Night With the Prostitute From Marseille', 'Beirut')\n",
      "('This Is Beautiful', 'Tyrone Wells')\n",
      "('Look What They Done To My Song_ Ma', 'Melanie')\n",
      "('The Middle', 'Jimmy Eat World')\n",
      "('Taja\"s Lude (Interlude)', 'Blackstreet')\n",
      "('Juramento', 'Omara Portuondo')\n",
      "('The News', 'Jack Johnson')\n",
      "('Love Me Like A River Does', 'Melody Gardot')\n",
      "('Fireflies', 'Charttraxx Karaoke')\n",
      "('Mighty Joe Moon', 'Grant Lee Buffalo')\n",
      "('Karma Police', 'Radiohead')\n",
      "('Love And Treachery', 'Madeleine Peyroux')\n",
      "('It\"s My Life', 'Bon Jovi')\n",
      "('Country Road', 'James Taylor')\n",
      "('CanciÃ\\x83Â³n Triste', 'Jesse Cook')\n",
      "('Unknown Brother', 'The Black Keys')\n",
      "('Kid A', 'Radiohead')\n",
      "('Almaz', 'Randy Crawford')\n",
      "('Almaz', 'Randy Crawford')\n",
      "('Born In Africa', 'Dr. Alban')\n",
      "('What You Know', 'Two Door Cinema Club')\n",
      "('Head Full Of Doubt/Road Full Of Promise', 'The Avett Brothers')\n",
      "('Hot Pursuit', 'The Bravery')\n",
      "('Pussywillow', 'Greg Dulli')\n",
      "('Don\"t Cry (Original)', \"Guns N' Roses\")\n",
      "('Kissing Behind The Rubbery Grinder', 'Major Organ And The Adding Machine')\n",
      "('Beyond The Beyond (Instrumental)', 'RJD2')\n",
      "('Yum Yum (Gimme Some)', 'Fatback')\n",
      "('Caixinha De MÃ\\x83Âºsica Do JoÃ\\x83Â£o', 'Secos And Molhados')\n",
      "('Mr. Sad', 'Marc Almond')\n",
      "('A Lion\"s Heart', 'The Tallest Man On Earth')\n",
      "('Heaven Is A Truck', 'Pavement')\n",
      "('Stronger', 'Kanye West')\n",
      "('ClichÃ\\x83Â© Guevara', 'Against Me!')\n",
      "('Imperial (LP Amended Version)', 'Rah Digga')\n",
      "('Always and Forever', 'Pat Metheny Group')\n",
      "('Sehr kosmisch', 'Harmonia')\n",
      "('California Girls (Album Version)', 'David Lee Roth')\n",
      "('The Invisible Man', 'Michael Cretu')\n",
      "('Kaaos ei karkaa', 'Haloo Helsinki!')\n",
      "('MC Material', 'Chali 2na')\n",
      "('Faust Arp', 'Radiohead')\n",
      "('Droomland (duet met Paul de Leeuw)', 'Andre Hazes')\n",
      "('Savior', 'Rise Against')\n",
      "('Ostia', 'Sepultura')\n",
      "('Witness', 'Screaming Trees')\n",
      "('Crossfire', 'Spencer Davis Group')\n",
      "('Still', 'Lionel Richie')\n",
      "('So Far From The Truth', 'Skinlab')\n",
      "('Follow The Star', 'Larry Sparks')\n",
      "('You Dance', 'Eastmountainsouth')\n",
      "('Have A Nice Day', 'Bon Jovi')\n",
      "('La Boulette (GÃ\\x83Â©nÃ\\x83Â©ration Nan Nan)', \"Diam's\")\n",
      "('Blackest Eyes (Album Version)', 'Porcupine Tree')\n",
      "('Once', 'Blackfield')\n",
      "('Kite', 'Kate Bush')\n",
      "('Walking With Thee', 'Clinic')\n",
      "('Darkshines [Live From Le Zenith]', 'Muse')\n",
      "('TÃ\\x83Âº', 'Shakira')\n",
      "('Sebrina_ Paste And Plato', 'Jellyfish')\n",
      "('Bitter Sweet Symphony', 'The Verve')\n",
      "('Lissoms', 'Toro Y Moi')\n",
      "('Sample Track 2', 'Simon Harris')\n",
      "('Figure.09 (Album Version)', 'Linkin Park')\n",
      "('The Wonderful Cross', 'Michael W. Smith')\n",
      "('Teardrop', 'Underworld')\n",
      "('This Afternoon (Album Version)', 'Nickelback')\n",
      "('O Canto Da Ema', 'Jackson Do Pandeiro')\n",
      "('Heartbreak Warfare', 'John Mayer')\n",
      "('Waterfall', 'Triumvirat')\n",
      "('TAVALLINEN TARINA', 'Hausmylly')\n",
      "('Step To Me', 'Thousand Foot Krutch')\n",
      "('Only Time (Original Version)', 'Enya')\n",
      "('Still be Friends', 'Billie The Vision & The Dancers')\n",
      "('Non Saprai Mai', 'Claudio Minore')\n",
      "('Fireflies', 'Charttraxx Karaoke')\n",
      "('The Worst Taste In Music (Extended)', 'The Radio Dept.')\n",
      "('War on war', 'Wilco')\n",
      "('Despre tine', 'O-Zone')\n",
      "('Whataya Want From Me', 'Adam Lambert')\n",
      "('Red', 'Mission Of Burma')\n",
      "('Damaged [Feat. Fabolous]', 'Danity Kane')\n",
      "('Sulk', 'Radiohead')\n",
      "('The English Way', 'Fightstar')\n",
      "('To Be With You', 'Hoobastank')\n",
      "('Poison Oak (Album Version)', 'Bright Eyes')\n",
      "('Grand Hotel', 'Procol Harum')\n",
      "('Planet Telex', 'Radiohead')\n",
      "('SinceritÃ\\x83Â© Et Jalousie', 'Alliance Ethnik')\n",
      "('New Born', 'Muse')\n",
      "('5_ 6_ 7_ 8', 'Steps')\n",
      "('The Heart Of Life', 'John Mayer')\n",
      "('Revelry', 'Kings Of Leon')\n",
      "('Draw The Line', 'David Gray')\n",
      "('The Ugly One (AKA Lee Van Cleef)', 'King Stitt')\n",
      "('Invalid', 'Tub Ring')\n",
      "('Cathar Rhythm', 'Era')\n",
      "('The Queen of Nothing', '+ / - {Plus/Minus}')\n",
      "('Good Time', 'Crystal Castles')\n",
      "('Figures', 'The Whitest Boy Alive')\n",
      "('Bone Broke', 'The White Stripes')\n",
      "('Are You The Walrus?', 'Furthermore')\n",
      "('Amityville', 'Eminem / Bizarre')\n",
      "('I\"m Not Calling You A Liar', 'Florence + The Machine')\n",
      "('Signos', 'Soda Stereo')\n",
      "('You Belong With Me', 'Taylor Swift')\n",
      "('Rearviewmirror', 'Pearl Jam')\n",
      "('Me So Horny', 'The 2 Live Crew')\n",
      "('Loco', '311')\n",
      "('Midnight Groovin\" (7\" Version) (2006 Digital Remaster)', 'Light Of The World')\n"
     ]
    }
   ],
   "source": [
    "\n",
    "\n",
    "for index, row in df.iterrows():\n",
    "\n",
    "    # get songid and artistid from song and artist tables\n",
    "    #cur.execute(song_select, (row.song, row.artist, row.length))\n",
    "    cur.execute(song_select, (row.song, row.artist))\n",
    "    results = cur.fetchone()\n",
    "    \n",
    "    if results:\n",
    "        songid, artistid = results\n",
    "    else:\n",
    "        songid, artistid = None, None\n",
    "\n",
    "    # insert songplay record\n",
    "    songplay_data = (index, pd.to_datetime(df['ts'][index], unit='ms'), row.userId, row.level, songid, artistid, row.itemInSession,\\\n",
    "                    row.location, row.userAgent)\n",
    "    cur.execute(songplay_table_insert, songplay_data)\n",
    "    conn.commit()\n",
    "    "
   ]
  },
  {
   "cell_type": "markdown",
   "metadata": {
    "editable": true
   },
   "source": [
    "Run `test.ipynb` to see if you've successfully added records to this table."
   ]
  },
  {
   "cell_type": "markdown",
   "metadata": {
    "editable": true
   },
   "source": [
    "# Close Connection to Sparkify Database"
   ]
  },
  {
   "cell_type": "code",
   "execution_count": 33,
   "metadata": {
    "editable": true
   },
   "outputs": [],
   "source": [
    "conn.close()"
   ]
  },
  {
   "cell_type": "markdown",
   "metadata": {
    "editable": true
   },
   "source": [
    "# Implement `etl.py`\n",
    "Use what you've completed in this notebook to implement `etl.py`."
   ]
  },
  {
   "cell_type": "code",
   "execution_count": null,
   "metadata": {
    "editable": true
   },
   "outputs": [],
   "source": []
  }
 ],
 "metadata": {
  "kernelspec": {
   "display_name": "Python 3",
   "language": "python",
   "name": "python3"
  },
  "language_info": {
   "codemirror_mode": {
    "name": "ipython",
    "version": 3
   },
   "file_extension": ".py",
   "mimetype": "text/x-python",
   "name": "python",
   "nbconvert_exporter": "python",
   "pygments_lexer": "ipython3",
   "version": "3.6.3"
  }
 },
 "nbformat": 4,
 "nbformat_minor": 4
}
